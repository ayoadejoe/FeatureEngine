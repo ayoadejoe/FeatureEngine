{
 "cells": [
  {
   "cell_type": "code",
   "execution_count": 3,
   "id": "b5a7c9ea-8542-4c62-b8a1-db9b3b11445b",
   "metadata": {},
   "outputs": [
    {
     "name": "stdout",
     "output_type": "stream",
     "text": [
      "Filtering complete! Output saved as 'duplicateCleanEnergy.csv'.\n"
     ]
    }
   ],
   "source": [
    "import pandas as pd\n",
    "\n",
    "# Load the CSV file\n",
    "df = pd.read_csv(\"cleaned_Raw_Energy.csv\")\n",
    "\n",
    "# Ensure 'Time' column is correctly parsed as datetime\n",
    "df['Time'] = pd.to_datetime(df['Time'])\n",
    "\n",
    "# Create a new column for minute-level grouping\n",
    "df['Time'] = df['Time'].dt.strftime('%Y-%m-%d %H:%M')\n",
    "\n",
    "# Drop duplicate rows based on the 'Minute_Only' column\n",
    "df_filtered = df.drop_duplicates(subset=['Time'], keep='first')\n",
    "\n",
    "# Remove the extra column before saving\n",
    "df_filtered = df_filtered.drop(columns=['Time'])\n",
    "\n",
    "# Save the filtered data back to CSV\n",
    "df_filtered.to_csv(\"duplicateCleanEnergy.csv\", index=False)\n",
    "\n",
    "print(\"Filtering complete! Output saved as 'duplicateCleanEnergy.csv'.\")\n"
   ]
  },
  {
   "cell_type": "code",
   "execution_count": null,
   "id": "c2f25d66-eb28-4483-8d98-38cdb2c0dd7a",
   "metadata": {},
   "outputs": [],
   "source": []
  }
 ],
 "metadata": {
  "kernelspec": {
   "display_name": "Python 3 (ipykernel)",
   "language": "python",
   "name": "python3"
  },
  "language_info": {
   "codemirror_mode": {
    "name": "ipython",
    "version": 3
   },
   "file_extension": ".py",
   "mimetype": "text/x-python",
   "name": "python",
   "nbconvert_exporter": "python",
   "pygments_lexer": "ipython3",
   "version": "3.12.4"
  }
 },
 "nbformat": 4,
 "nbformat_minor": 5
}
